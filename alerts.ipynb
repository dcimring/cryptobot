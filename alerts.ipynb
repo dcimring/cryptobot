{
 "cells": [
  {
   "cell_type": "code",
   "execution_count": 23,
   "metadata": {},
   "outputs": [],
   "source": [
    "import warnings\n",
    "\n",
    "warnings.filterwarnings(\"ignore\", message=\"numpy.dtype size changed\")\n",
    "warnings.filterwarnings(\"ignore\", message=\"numpy.ufunc size changed\")\n",
    "\n",
    "# RuntimeWarning: numpy.dtype size changed, may indicate binary incompatibility\n",
    "\n",
    "import slack\n",
    "from strategy import MAStrategy\n",
    "import bitmex\n",
    "import os\n",
    "from time import sleep"
   ]
  },
  {
   "cell_type": "code",
   "execution_count": 2,
   "metadata": {},
   "outputs": [],
   "source": [
    "api_key, api_secret = os.environ['BITMEX_API_KEY'], os.environ['BITMEX_API_SECRET']\n",
    "\n",
    "client = bitmex.bitmex(\n",
    "    test=True,\n",
    "    api_key=api_key,\n",
    "    api_secret=api_secret\n",
    ")"
   ]
  },
  {
   "cell_type": "code",
   "execution_count": 21,
   "metadata": {},
   "outputs": [],
   "source": [
    "alerts = [\n",
    "    {'Name':'BTC','Symbol':'XBTUSD', 'Fast':1, 'Slow': 7},\n",
    "    {'Name':'ETH','Symbol':'ETHU18', 'Fast':1, 'Slow': 7},\n",
    "    {'Name':'BCH','Symbol':'BCHU18', 'Fast':1, 'Slow': 7},\n",
    "    {'Name':'LTC','Symbol':'LTCU18', 'Fast':1, 'Slow': 14},\n",
    "    {'Name':'EOS','Symbol':'EOSU18', 'Fast':1, 'Slow': 14},\n",
    "    {'Name':'XRP','Symbol':'XRPU18', 'Fast':1, 'Slow': 14},\n",
    "]"
   ]
  },
  {
   "cell_type": "code",
   "execution_count": 24,
   "metadata": {},
   "outputs": [],
   "source": [
    "msg = 'Trades:\\n'\n",
    "for alert in alerts:\n",
    "    ohlc = MAStrategy(client,timeframe='1d').get_data(symbol=alert['Symbol'],count=alert['Slow']+2)\n",
    "    fast = ohlc.close.rolling(window=alert['Fast']).mean()[-1]\n",
    "    slow = ohlc.close.rolling(window=alert['Slow']).mean()[-1]\n",
    "    if fast >= slow:\n",
    "        direction = 'Long'\n",
    "    else:\n",
    "        direction = 'Short'\n",
    "    msg += \"%s (%d,%d) %s\\n\" % (alert['Name'],alert['Fast'],alert['Slow'],direction)\n",
    "    sleep(0.5)"
   ]
  },
  {
   "cell_type": "code",
   "execution_count": 25,
   "metadata": {},
   "outputs": [
    {
     "name": "stdout",
     "output_type": "stream",
     "text": [
      "BTC (1,7) Short\n",
      "ETH (1,7) Long\n",
      "BCH (1,7) Short\n",
      "LTC (1,14) Short\n",
      "EOS (1,14) Short\n",
      "XRP (1,14) Long\n",
      "\n"
     ]
    }
   ],
   "source": [
    "print(msg)"
   ]
  },
  {
   "cell_type": "code",
   "execution_count": 26,
   "metadata": {},
   "outputs": [],
   "source": [
    "slack.send(msg)"
   ]
  }
 ],
 "metadata": {
  "kernelspec": {
   "display_name": "Python 3",
   "language": "python",
   "name": "python3"
  },
  "language_info": {
   "codemirror_mode": {
    "name": "ipython",
    "version": 3
   },
   "file_extension": ".py",
   "mimetype": "text/x-python",
   "name": "python",
   "nbconvert_exporter": "python",
   "pygments_lexer": "ipython3",
   "version": "3.6.4"
  }
 },
 "nbformat": 4,
 "nbformat_minor": 2
}
