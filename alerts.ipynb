{
 "cells": [
  {
   "cell_type": "code",
   "execution_count": 23,
   "metadata": {},
   "outputs": [],
   "source": [
    "import warnings\n",
    "\n",
    "warnings.filterwarnings(\"ignore\", message=\"numpy.dtype size changed\")\n",
    "warnings.filterwarnings(\"ignore\", message=\"numpy.ufunc size changed\")\n",
    "\n",
    "# RuntimeWarning: numpy.dtype size changed, may indicate binary incompatibility\n",
    "\n",
    "import slack\n",
    "from strategy import MAStrategy\n",
    "import bitmex\n",
    "import os\n",
    "from time import sleep"
   ]
  },
  {
   "cell_type": "code",
   "execution_count": 2,
   "metadata": {},
   "outputs": [],
   "source": [
    "api_key, api_secret = os.environ['BITMEX_API_KEY'], os.environ['BITMEX_API_SECRET']\n",
    "\n",
    "client = bitmex.bitmex(\n",
    "    test=True,\n",
    "    api_key=api_key,\n",
    "    api_secret=api_secret\n",
    ")"
   ]
  },
  {
   "cell_type": "code",
   "execution_count": 21,
   "metadata": {},
   "outputs": [],
   "source": [
    "alerts = [\n",
    "    {'Name':'BTC','Symbol':'XBTUSD', 'Fast':1, 'Slow': 7},\n",
    "    {'Name':'ETH','Symbol':'ETHU18', 'Fast':1, 'Slow': 7},\n",
    "    {'Name':'BCH','Symbol':'BCHU18', 'Fast':1, 'Slow': 7},\n",
    "    {'Name':'LTC','Symbol':'LTCU18', 'Fast':1, 'Slow': 14},\n",
    "    {'Name':'EOS','Symbol':'EOSU18', 'Fast':1, 'Slow': 14},\n",
    "    {'Name':'XRP','Symbol':'XRPU18', 'Fast':1, 'Slow': 14},\n",
    "]"
   ]
  },
  {
   "cell_type": "code",
   "execution_count": 33,
   "metadata": {},
   "outputs": [],
   "source": [
    "msg = 'Trades:\\n'\n",
    "extra = ''\n",
    "strategy = MAStrategy(client,timeframe='1d')\n",
    "\n",
    "for alert in alerts:\n",
    "    ohlc = strategy.get_data(symbol=alert['Symbol'],count=alert['Slow']+2)\n",
    "    fast = ohlc.close.rolling(window=alert['Fast']).mean()\n",
    "    slow = ohlc.close.rolling(window=alert['Slow']).mean()\n",
    "    if fast[-1] >= slow[-1]:\n",
    "        direction = 'Long'\n",
    "        if strategy.crossabove(fast,slow): extra=\"*\"\n",
    "    else:\n",
    "        direction = 'Short'\n",
    "        if strategy.crossunder(fast,slow): extra=\"*\"\n",
    "        \n",
    "    msg += \"%s (%d,%d) %s%s\\n\" % (alert['Name'],alert['Fast'],alert['Slow'],direction,extra)\n",
    "    sleep(0.5)"
   ]
  },
  {
   "cell_type": "code",
   "execution_count": 34,
   "metadata": {},
   "outputs": [
    {
     "name": "stdout",
     "output_type": "stream",
     "text": [
      "Trades:\n",
      "BTC (1,7) Short\n",
      "ETH (1,7) Long*\n",
      "BCH (1,7) Short*\n",
      "LTC (1,14) Short*\n",
      "EOS (1,14) Short*\n",
      "XRP (1,14) Long*\n",
      "\n"
     ]
    }
   ],
   "source": [
    "print(msg)"
   ]
  },
  {
   "cell_type": "code",
   "execution_count": 26,
   "metadata": {},
   "outputs": [],
   "source": [
    "slack.send(msg)"
   ]
  },
  {
   "cell_type": "code",
   "execution_count": 32,
   "metadata": {},
   "outputs": [
    {
     "ename": "TypeError",
     "evalue": "crossabove() missing 1 required positional argument: 'mal'",
     "output_type": "error",
     "traceback": [
      "\u001b[0;31m---------------------------------------------------------------------------\u001b[0m",
      "\u001b[0;31mTypeError\u001b[0m                                 Traceback (most recent call last)",
      "\u001b[0;32m<ipython-input-32-78fe658e2720>\u001b[0m in \u001b[0;36m<module>\u001b[0;34m()\u001b[0m\n\u001b[0;32m----> 1\u001b[0;31m \u001b[0mMAStrategy\u001b[0m\u001b[0;34m.\u001b[0m\u001b[0mcrossabove\u001b[0m\u001b[0;34m(\u001b[0m\u001b[0mfast\u001b[0m\u001b[0;34m,\u001b[0m\u001b[0mslow\u001b[0m\u001b[0;34m)\u001b[0m\u001b[0;34m\u001b[0m\u001b[0m\n\u001b[0m",
      "\u001b[0;31mTypeError\u001b[0m: crossabove() missing 1 required positional argument: 'mal'"
     ]
    }
   ],
   "source": [
    "MAStrategy.crossabove(fast,slow)"
   ]
  }
 ],
 "metadata": {
  "kernelspec": {
   "display_name": "Python 3",
   "language": "python",
   "name": "python3"
  },
  "language_info": {
   "codemirror_mode": {
    "name": "ipython",
    "version": 3
   },
   "file_extension": ".py",
   "mimetype": "text/x-python",
   "name": "python",
   "nbconvert_exporter": "python",
   "pygments_lexer": "ipython3",
   "version": "3.6.4"
  }
 },
 "nbformat": 4,
 "nbformat_minor": 2
}
